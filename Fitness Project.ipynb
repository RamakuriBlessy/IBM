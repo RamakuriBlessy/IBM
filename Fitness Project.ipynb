{
  "cells": [
    {
      "cell_type": "code",
      "execution_count": 2,
      "metadata": {
        "colab": {
          "base_uri": "https://localhost:8080/"
        },
        "id": "BBIl0tIwmYqR",
        "outputId": "952f0aef-0313-4d4e-e0a6-91a416208ce8"
      },
      "outputs": [
        {
          "name": "stdout",
          "output_type": "stream",
          "text": [
            "Requirement already satisfied: replicate in c:\\users\\hp\\appdata\\local\\packages\\pythonsoftwarefoundation.python.3.11_qbz5n2kfra8p0\\localcache\\local-packages\\python311\\site-packages (1.0.7)\n",
            "Requirement already satisfied: duckduckgo-search in c:\\users\\hp\\appdata\\local\\packages\\pythonsoftwarefoundation.python.3.11_qbz5n2kfra8p0\\localcache\\local-packages\\python311\\site-packages (8.1.1)\n",
            "Requirement already satisfied: httpx<1,>=0.21.0 in c:\\users\\hp\\appdata\\local\\packages\\pythonsoftwarefoundation.python.3.11_qbz5n2kfra8p0\\localcache\\local-packages\\python311\\site-packages (from replicate) (0.28.1)\n",
            "Requirement already satisfied: packaging in c:\\users\\hp\\appdata\\local\\packages\\pythonsoftwarefoundation.python.3.11_qbz5n2kfra8p0\\localcache\\local-packages\\python311\\site-packages (from replicate) (24.2)\n",
            "Requirement already satisfied: pydantic>1.10.7 in c:\\users\\hp\\appdata\\local\\packages\\pythonsoftwarefoundation.python.3.11_qbz5n2kfra8p0\\localcache\\local-packages\\python311\\site-packages (from replicate) (2.11.2)\n",
            "Requirement already satisfied: typing_extensions>=4.5.0 in c:\\users\\hp\\appdata\\local\\packages\\pythonsoftwarefoundation.python.3.11_qbz5n2kfra8p0\\localcache\\local-packages\\python311\\site-packages (from replicate) (4.13.1)\n",
            "Requirement already satisfied: anyio in c:\\users\\hp\\appdata\\local\\packages\\pythonsoftwarefoundation.python.3.11_qbz5n2kfra8p0\\localcache\\local-packages\\python311\\site-packages (from httpx<1,>=0.21.0->replicate) (4.10.0)\n",
            "Requirement already satisfied: certifi in c:\\users\\hp\\appdata\\local\\packages\\pythonsoftwarefoundation.python.3.11_qbz5n2kfra8p0\\localcache\\local-packages\\python311\\site-packages (from httpx<1,>=0.21.0->replicate) (2025.1.31)\n",
            "Requirement already satisfied: httpcore==1.* in c:\\users\\hp\\appdata\\local\\packages\\pythonsoftwarefoundation.python.3.11_qbz5n2kfra8p0\\localcache\\local-packages\\python311\\site-packages (from httpx<1,>=0.21.0->replicate) (1.0.9)\n",
            "Requirement already satisfied: idna in c:\\users\\hp\\appdata\\local\\packages\\pythonsoftwarefoundation.python.3.11_qbz5n2kfra8p0\\localcache\\local-packages\\python311\\site-packages (from httpx<1,>=0.21.0->replicate) (3.10)\n",
            "Requirement already satisfied: h11>=0.16 in c:\\users\\hp\\appdata\\local\\packages\\pythonsoftwarefoundation.python.3.11_qbz5n2kfra8p0\\localcache\\local-packages\\python311\\site-packages (from httpcore==1.*->httpx<1,>=0.21.0->replicate) (0.16.0)\n",
            "Requirement already satisfied: click>=8.1.8 in c:\\users\\hp\\appdata\\local\\packages\\pythonsoftwarefoundation.python.3.11_qbz5n2kfra8p0\\localcache\\local-packages\\python311\\site-packages (from duckduckgo-search) (8.1.8)\n",
            "Requirement already satisfied: primp>=0.15.0 in c:\\users\\hp\\appdata\\local\\packages\\pythonsoftwarefoundation.python.3.11_qbz5n2kfra8p0\\localcache\\local-packages\\python311\\site-packages (from duckduckgo-search) (0.15.0)\n",
            "Requirement already satisfied: lxml>=5.3.0 in c:\\users\\hp\\appdata\\local\\packages\\pythonsoftwarefoundation.python.3.11_qbz5n2kfra8p0\\localcache\\local-packages\\python311\\site-packages (from duckduckgo-search) (6.0.0)\n",
            "Requirement already satisfied: colorama in c:\\users\\hp\\appdata\\local\\packages\\pythonsoftwarefoundation.python.3.11_qbz5n2kfra8p0\\localcache\\local-packages\\python311\\site-packages (from click>=8.1.8->duckduckgo-search) (0.4.6)\n",
            "Requirement already satisfied: annotated-types>=0.6.0 in c:\\users\\hp\\appdata\\local\\packages\\pythonsoftwarefoundation.python.3.11_qbz5n2kfra8p0\\localcache\\local-packages\\python311\\site-packages (from pydantic>1.10.7->replicate) (0.7.0)\n",
            "Requirement already satisfied: pydantic-core==2.33.1 in c:\\users\\hp\\appdata\\local\\packages\\pythonsoftwarefoundation.python.3.11_qbz5n2kfra8p0\\localcache\\local-packages\\python311\\site-packages (from pydantic>1.10.7->replicate) (2.33.1)\n",
            "Requirement already satisfied: typing-inspection>=0.4.0 in c:\\users\\hp\\appdata\\local\\packages\\pythonsoftwarefoundation.python.3.11_qbz5n2kfra8p0\\localcache\\local-packages\\python311\\site-packages (from pydantic>1.10.7->replicate) (0.4.0)\n",
            "Requirement already satisfied: sniffio>=1.1 in c:\\users\\hp\\appdata\\local\\packages\\pythonsoftwarefoundation.python.3.11_qbz5n2kfra8p0\\localcache\\local-packages\\python311\\site-packages (from anyio->httpx<1,>=0.21.0->replicate) (1.3.1)\n",
            "Note: you may need to restart the kernel to use updated packages.\n"
          ]
        },
        {
          "name": "stderr",
          "output_type": "stream",
          "text": [
            "\n",
            "[notice] A new release of pip is available: 25.1.1 -> 25.2\n",
            "[notice] To update, run: C:\\Users\\HP\\AppData\\Local\\Microsoft\\WindowsApps\\PythonSoftwareFoundation.Python.3.11_qbz5n2kfra8p0\\python.exe -m pip install --upgrade pip\n"
          ]
        }
      ],
      "source": [
        "%pip install replicate duckduckgo-search"
      ]
    },
    {
      "cell_type": "code",
      "execution_count": null,
      "metadata": {
        "id": "oPRG5EMyg0LF"
      },
      "outputs": [],
      "source": [
        "import replicate\n",
        "from duckduckgo_search import DDGS\n",
        "\n",
        "# 🔐 IBM Granite on Replicate\n",
        "REPLICATE_API_TOKEN = \"Paste your Replicate Token\"\n",
        "client = replicate.Client(api_token=REPLICATE_API_TOKEN)\n",
        "\n",
        "# 🔎 Optional: search tool\n",
        "def search_duckduckgo(query):\n",
        "    with DDGS() as ddgs:\n",
        "        results = ddgs.text(query, max_results=3)\n",
        "        return \"\\n\".join([f\"- {r['title']}: {r['href']}\" for r in results])\n",
        "\n",
        "# 🧠 LLM query function\n",
        "def query_replicate(prompt, model=\"ibm-granite/granite-3.3-8b-instruct\"):\n",
        "    output = client.run(model, input={\"prompt\": prompt, \"max_new_tokens\": 300})\n",
        "    return \"\".join(output)\n",
        "\n",
        "# 🤖 Agent 1: Workout Recommender\n",
        "def workout_agent(prompt):\n",
        "    system_prompt = \"You are a personal workout coach. Recommend home-based fitness routines based on user goals and preferences.\"\n",
        "    return query_replicate(f\"{system_prompt}\\n\\nUser: {prompt}\")\n",
        "\n",
        "# 🍎 Agent 2: Nutrition Coach\n",
        "def nutrition_agent(prompt):\n",
        "    system_prompt = \"You are a friendly nutritionist. Suggest healthy, affordable meal ideas based on user input. Be simple and practical.\"\n",
        "    return query_replicate(f\"{system_prompt}\\n\\nUser: {prompt}\")\n",
        "\n",
        "# 💡 Agent 3: Motivational Buddy\n",
        "def motivation_agent(prompt):\n",
        "    system_prompt = \"You are a motivational fitness buddy. Share tips, inspiration, and strategies to stay consistent with healthy habits.\"\n",
        "    return query_replicate(f\"{system_prompt}\\n\\nUser: {prompt}\")\n"
      ]
    },
    {
      "cell_type": "code",
      "execution_count": 4,
      "metadata": {
        "id": "SVOjDNd7mNHy"
      },
      "outputs": [],
      "source": [
        "def fitness_buddy_router(user_prompt):\n",
        "    workout_keywords = [\"workout\", \"exercise\", \"routine\", \"stretch\", \"home gym\"]\n",
        "    nutrition_keywords = [\"diet\", \"meal\", \"protein\", \"food\", \"nutrition\", \"eat\"]\n",
        "    motivation_keywords = [\"motivation\", \"lazy\", \"can't\", \"habit\", \"inspiration\", \"routine\", \"mental\"]\n",
        "\n",
        "    prompt_lower = user_prompt.lower()\n",
        "\n",
        "    if any(word in prompt_lower for word in workout_keywords):\n",
        "        return workout_agent(user_prompt)\n",
        "    elif any(word in prompt_lower for word in nutrition_keywords):\n",
        "        return nutrition_agent(user_prompt)\n",
        "    elif any(word in prompt_lower for word in motivation_keywords):\n",
        "        return motivation_agent(user_prompt)\n",
        "    else:\n",
        "        # default fallback agent\n",
        "        return \"🤖 Please clarify: are you asking about workouts, meals, or motivation?\"\n"
      ]
    },
    {
      "cell_type": "code",
      "execution_count": 5,
      "metadata": {
        "colab": {
          "base_uri": "https://localhost:8080/",
          "height": 645
        },
        "id": "1qc71dgUmOIb",
        "outputId": "94cd6e14-ca4e-46e2-f57f-b562b0730346"
      },
      "outputs": [
        {
          "name": "stdout",
          "output_type": "stream",
          "text": [
            "It looks like you are running Gradio on a hosted a Jupyter notebook. For the Gradio app to work, sharing must be enabled. Automatically setting `share=True` (you can turn this off by setting `share=False` in `launch()` explicitly).\n",
            "\n",
            "Colab notebook detected. To show errors in colab notebook, set debug=True in launch()\n",
            "* Running on public URL: https://109d8d22a16bfd39ae.gradio.live\n",
            "\n",
            "This share link expires in 1 week. For free permanent hosting and GPU upgrades, run `gradio deploy` from the terminal in the working directory to deploy to Hugging Face Spaces (https://huggingface.co/spaces)\n"
          ]
        },
        {
          "data": {
            "text/html": [
              "<div><iframe src=\"https://109d8d22a16bfd39ae.gradio.live\" width=\"100%\" height=\"500\" allow=\"autoplay; camera; microphone; clipboard-read; clipboard-write;\" frameborder=\"0\" allowfullscreen></iframe></div>"
            ],
            "text/plain": [
              "<IPython.core.display.HTML object>"
            ]
          },
          "metadata": {},
          "output_type": "display_data"
        },
        {
          "data": {
            "text/plain": []
          },
          "execution_count": 5,
          "metadata": {},
          "output_type": "execute_result"
        }
      ],
      "source": [
        "import gradio as gr\n",
        "\n",
        "gr.Interface(\n",
        "    fn=fitness_buddy_router,\n",
        "    inputs=gr.Textbox(lines=2, placeholder=\"Ask about fitness, meals, or motivation...\"),\n",
        "    outputs=gr.Textbox(label=\"Fitness Buddy Says\"),\n",
        "    title=\"💪 Fitness Buddy AI\",\n",
        "    description=\"Your personal AI coach for workouts, nutrition, and motivation!\"\n",
        ").launch()\n"
      ]
    },
    {
      "cell_type": "code",
      "execution_count": null,
      "metadata": {
        "id": "TMc4uz1bmQI1"
      },
      "outputs": [],
      "source": []
    }
  ],
  "metadata": {
    "colab": {
      "provenance": []
    },
    "kernelspec": {
      "display_name": "Python 3",
      "name": "python3"
    },
    "language_info": {
      "codemirror_mode": {
        "name": "ipython",
        "version": 3
      },
      "file_extension": ".py",
      "mimetype": "text/x-python",
      "name": "python",
      "nbconvert_exporter": "python",
      "pygments_lexer": "ipython3",
      "version": "3.11.9"
    }
  },
  "nbformat": 4,
  "nbformat_minor": 0
}
